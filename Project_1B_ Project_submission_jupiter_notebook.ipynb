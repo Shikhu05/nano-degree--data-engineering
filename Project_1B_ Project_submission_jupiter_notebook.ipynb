{
 "cells": [
  {
   "cell_type": "markdown",
   "metadata": {},
   "source": [
    "# Part I. ETL Pipeline for Pre-Processing the Files"
   ]
  },
  {
   "cell_type": "markdown",
   "metadata": {},
   "source": [
    "## PLEASE RUN THE FOLLOWING CODE FOR PRE-PROCESSING THE FILES"
   ]
  },
  {
   "cell_type": "markdown",
   "metadata": {},
   "source": [
    "#### Import Python packages "
   ]
  },
  {
   "cell_type": "code",
   "execution_count": 1,
   "metadata": {},
   "outputs": [],
   "source": [
    "# Import Python packages \n",
    "import pandas as pd\n",
    "import cassandra\n",
    "import re\n",
    "import os\n",
    "import glob\n",
    "import numpy as np\n",
    "import json\n",
    "import csv"
   ]
  },
  {
   "cell_type": "markdown",
   "metadata": {},
   "source": [
    "#### Creating list of filepaths to process original event csv data files"
   ]
  },
  {
   "cell_type": "code",
   "execution_count": 2,
   "metadata": {},
   "outputs": [
    {
     "name": "stdout",
     "output_type": "stream",
     "text": [
      "/home/workspace\n"
     ]
    }
   ],
   "source": [
    "# checking current working directory\n",
    "print(os.getcwd())\n",
    "\n",
    "# Getting current folder and subfolder event data\n",
    "filepath = os.getcwd() + '/event_data'\n",
    "\n",
    "# loop to create a list of files and collect each filepath\n",
    "for root, dirs, files in os.walk(filepath):\n",
    "    \n",
    "# join the file path and roots with the subdirectories using glob\n",
    "    file_path_list = glob.glob(os.path.join(root,'*'))\n"
   ]
  },
  {
   "cell_type": "markdown",
   "metadata": {},
   "source": [
    "#### Processing the files to create the data file csv that will be used for Apache Casssandra tables"
   ]
  },
  {
   "cell_type": "code",
   "execution_count": 3,
   "metadata": {},
   "outputs": [],
   "source": [
    "# initiating an empty list of rows that will be generated from each file\n",
    "full_data_rows_list = [] \n",
    "    \n",
    "# for every filepath in the file path list \n",
    "for f in file_path_list:\n",
    "\n",
    "# reading csv file \n",
    "    with open(f, 'r', encoding = 'utf8', newline='') as csvfile: \n",
    "        # creating a csv reader object \n",
    "        csvreader = csv.reader(csvfile) \n",
    "        next(csvreader)\n",
    "        \n",
    " # extracting each data row one by one and append it        \n",
    "        for line in csvreader:\n",
    "            #print(line)\n",
    "            full_data_rows_list.append(line) \n",
    "            \n",
    "# get total number of rows \n",
    "#print(len(full_data_rows_list))\n",
    "# to check to see what the list of event data rows will look like\n",
    "#print(full_data_rows_list)\n",
    "\n",
    "# creating a smaller event data csv file called event_datafile_full csv that will be used to insert data into the \\\n",
    "# Apache Cassandra tables\n",
    "csv.register_dialect('myDialect', quoting=csv.QUOTE_ALL, skipinitialspace=True)\n",
    "\n",
    "with open('event_datafile_new.csv', 'w', encoding = 'utf8', newline='') as f:\n",
    "    writer = csv.writer(f, dialect='myDialect')\n",
    "    writer.writerow(['artist','firstName','gender','itemInSession','lastName','length',\\\n",
    "                'level','location','sessionId','song','userId'])\n",
    "    for row in full_data_rows_list:\n",
    "        if (row[0] == ''):\n",
    "            continue\n",
    "        writer.writerow((row[0], row[2], row[3], row[4], row[5], row[6], row[7], row[8], row[12], row[13], row[16]))\n"
   ]
  },
  {
   "cell_type": "code",
   "execution_count": 4,
   "metadata": {},
   "outputs": [
    {
     "name": "stdout",
     "output_type": "stream",
     "text": [
      "6821\n"
     ]
    }
   ],
   "source": [
    "# checking the number of rows in your csv file\n",
    "with open('event_datafile_new.csv', 'r', encoding = 'utf8') as f:\n",
    "    print(sum(1 for line in f))"
   ]
  },
  {
   "cell_type": "markdown",
   "metadata": {},
   "source": [
    "# Part II. Complete the Apache Cassandra coding portion of your project. \n",
    "\n",
    "## Now you are ready to work with the CSV file titled <font color=red>event_datafile_new.csv</font>, located within the Workspace directory.  The event_datafile_new.csv contains the following columns: \n",
    "- artist \n",
    "- firstName of user\n",
    "- gender of user\n",
    "- item number in session\n",
    "- last name of user\n",
    "- length of the song\n",
    "- level (paid or free song)\n",
    "- location of the user\n",
    "- sessionId\n",
    "- song title\n",
    "- userId\n",
    "\n",
    "The image below is a screenshot of what the denormalized data should appear like in the <font color=red>**event_datafile_new.csv**</font> after the code above is run:<br>\n",
    "\n",
    "<img src=\"images/image_event_datafile_new.jpg\">"
   ]
  },
  {
   "cell_type": "markdown",
   "metadata": {},
   "source": [
    "## Begin writing your Apache Cassandra code in the cells below"
   ]
  },
  {
   "cell_type": "markdown",
   "metadata": {},
   "source": [
    "#### Creating a Cluster"
   ]
  },
  {
   "cell_type": "code",
   "execution_count": 5,
   "metadata": {},
   "outputs": [],
   "source": [
    "# Making the connection \n",
    "from cassandra.cluster import Cluster\n",
    "cluster = Cluster()\n",
    "\n",
    "# Creating a session to establish connection and to execute queries in further steps\n",
    "session = cluster.connect()"
   ]
  },
  {
   "cell_type": "markdown",
   "metadata": {},
   "source": [
    "#### Create Keyspace"
   ]
  },
  {
   "cell_type": "code",
   "execution_count": 6,
   "metadata": {},
   "outputs": [],
   "source": [
    "# Creating a Keyspace for Data Modeling with Cassandra project\n",
    "try:\n",
    "    session.execute(\"\"\"\n",
    "    CREATE KEYSPACE IF NOT EXISTS <keyname>\n",
    "    WITH REPLICATION = \n",
    "    { 'class' : 'SimpleStrategy', 'replication_factor' : 1 }\"\"\"\n",
    ")\n",
    "\n",
    "except Exception as e:\n",
    "    print(e)"
   ]
  },
  {
   "cell_type": "markdown",
   "metadata": {},
   "source": [
    "#### Set Keyspace"
   ]
  },
  {
   "cell_type": "code",
   "execution_count": 7,
   "metadata": {},
   "outputs": [],
   "source": [
    "# Setting up the KEYSPACE \n",
    "try:\n",
    "    session.set_keyspace('<keyname>')\n",
    "except Exception as e:\n",
    "    print(e)"
   ]
  },
  {
   "cell_type": "markdown",
   "metadata": {},
   "source": [
    "### Now we need to create tables to run the following queries. Remember, with Apache Cassandra you model the database tables on the queries you want to run."
   ]
  },
  {
   "cell_type": "markdown",
   "metadata": {},
   "source": [
    "## Create queries to ask the following three questions of the data\n",
    "\n",
    "### 1. Give me the artist, song title and song's length in the music app history that was heard during  sessionId = 338, and itemInSession  = 4\n",
    "\n",
    "\n",
    "### 2. Give me only the following: name of artist, song (sorted by itemInSession) and user (first and last name) for userid = 10, sessionid = 182\n",
    "    \n",
    "\n",
    "### 3. Give me every user name (first and last) in my music app history who listened to the song 'All Hands Against His Own'\n",
    "\n",
    "\n"
   ]
  },
  {
   "cell_type": "code",
   "execution_count": 8,
   "metadata": {},
   "outputs": [],
   "source": [
    "## requirment is to fetch the artist, song title and song's length in the music app history for sessionId = 338, and itemInSession = 4\n",
    "\n",
    "# for this requirment we are creating a music app history table with the primary key as session id and clustering column as itemInSession to uniquely identify each row, \n",
    "# so that we can access all unique records with these two combinations.\n",
    "\n",
    "#Creating the table for 1st requirement\n",
    "q1_0= \"create table if not exists music_app_history\"\n",
    "q1_0 = q1_0+ \"(session_id int, iteminsession int, artist text, song_title text, song_length text, Primary Key (session_id, iteminsession) )\"\n",
    "\n",
    "try:\n",
    "    session.execute(q1_0)\n",
    "except Exception as e:\n",
    "    print(e)"
   ]
  },
  {
   "cell_type": "code",
   "execution_count": 9,
   "metadata": {},
   "outputs": [],
   "source": [
    "# Reading the data from the source file below\n",
    "file = 'event_datafile_new.csv'\n",
    "\n",
    "with open(file, encoding = 'utf8') as f:\n",
    "    csvreader = csv.reader(f)\n",
    "    next(csvreader) # this command will skip file header\n",
    "    for line in csvreader:\n",
    "## insert statement to load data into the music app history table\n",
    "        q1_1 = \"insert into music_app_history (session_id, iteminsession, artist, song_title, song_length ) \"\n",
    "        q1_1 = q1_1 + \"values (%s,%s,%s,%s,%s)\"\n",
    "        ## assigning the appropriate column values from the file for each table column in the INSERT statement.\n",
    "        session.execute(q1_1, (int(line[8]), int(line[3]), line[0], line[9], line[5])) \n",
    "        "
   ]
  },
  {
   "cell_type": "markdown",
   "metadata": {},
   "source": [
    "#### Do a SELECT to verify that the data have been inserted into each table"
   ]
  },
  {
   "cell_type": "code",
   "execution_count": 10,
   "metadata": {
    "scrolled": true
   },
   "outputs": [
    {
     "name": "stdout",
     "output_type": "stream",
     "text": [
      "Faithless Music Matters (Mark Knight Dub) 495.3073\n"
     ]
    }
   ],
   "source": [
    "## Writing the select statment to fetch the required data as asked in the first requirement.\n",
    "query_1 = \"select artist, song_title, song_length from music_app_history where session_Id = 338 and iteminsession = 4 \"\n",
    "\n",
    "try:\n",
    "    rows = session.execute(query_1)\n",
    "except Exception as e:\n",
    "    print(e)\n",
    "    \n",
    "for row in rows:\n",
    "    print (row.artist, row.song_title, row.song_length)\n"
   ]
  },
  {
   "cell_type": "markdown",
   "metadata": {},
   "source": [
    "### COPY AND REPEAT THE ABOVE THREE CELLS FOR EACH OF THE THREE QUESTIONS"
   ]
  },
  {
   "cell_type": "code",
   "execution_count": 11,
   "metadata": {},
   "outputs": [],
   "source": [
    "## requirment-2 is to fetch name of artist, song (sorted by itemInSession) and user (first and last name) for userid = 10, sessionid = 182\n",
    "\n",
    "# for this requirment we are creating a music app history user table with the primary key as combinition of (user_id, session_id)and clustering column as itemInSession to uniquely identify each row, \n",
    "# so that we can access all unique records with these combinations.\n",
    "\n",
    "#Creating the table for given requirement\n",
    "q2_0= \"create table if not exists music_app_history_user\"\n",
    "q2_0 = q2_0+ \"(session_id int, user_id int, iteminsession int, user_first_name text, user_last_name text, artist_name text, song_title text,  Primary Key ((user_id, session_id), iteminsession) )\"\n",
    "\n",
    "try:\n",
    "    session.execute(q2_0)\n",
    "except Exception as e:\n",
    "    print(e)\n",
    "                    "
   ]
  },
  {
   "cell_type": "code",
   "execution_count": 12,
   "metadata": {},
   "outputs": [],
   "source": [
    "# Reading the data from the source file below\n",
    "file = 'event_datafile_new.csv'\n",
    "\n",
    "with open(file, encoding = 'utf8') as f:\n",
    "    csvreader = csv.reader(f)\n",
    "    next(csvreader) # to skip header\n",
    "    for line in csvreader:\n",
    "## ## insert statement to load data into the music app history user table\n",
    "        q2_1 = \"insert into music_app_history_user (user_id, session_id, iteminsession, artist_name, song_title, user_first_name, user_last_name) \"\n",
    "        q2_1 = q2_1 + \"values (%s,%s,%s,%s,%s,%s,%s)\"\n",
    "        ## assigning the appropriate column values from the file for each table column in the INSERT statement.\n",
    "        session.execute(q2_1, (int(line[10]),int(line[8]), int(line[3]), line[0], line[9], line[1], line[4]))\n",
    "   "
   ]
  },
  {
   "cell_type": "code",
   "execution_count": 13,
   "metadata": {},
   "outputs": [
    {
     "name": "stdout",
     "output_type": "stream",
     "text": [
      "Down To The Bone Keep On Keepin' On Sylvie Cruz\n",
      "Three Drives Greece 2000 Sylvie Cruz\n",
      "Sebastien Tellier Kilometer Sylvie Cruz\n",
      "Lonnie Gordon Catch You Baby (Steve Pitron & Max Sanna Radio Edit) Sylvie Cruz\n"
     ]
    }
   ],
   "source": [
    "## Writing the select statment to fetch the required data as asked in the 2nd requirement.\n",
    "query_2 = \"select itemInSession, artist_name, song_title, user_first_name, user_last_name from music_app_history_user where session_Id = 182 and user_id = 10 \"\n",
    "\n",
    "try:\n",
    "    rows = session.execute(query_2)\n",
    "except Exception as e:\n",
    "    print(e)\n",
    "    \n",
    "for row in rows:\n",
    "    print (row.artist_name, row.song_title , row.user_first_name+' '+row.user_last_name)\n",
    "#     print (row.iteminsession, row.artist_name, row.song_title , row.user_first_name, row.user_last_name) #for checking the sorted values\n"
   ]
  },
  {
   "cell_type": "code",
   "execution_count": 14,
   "metadata": {},
   "outputs": [],
   "source": [
    "## requirment-3 is to fetch every user name (first and last) in my music app history who listened to the song 'All Hands Against His Own'\n",
    "\n",
    "# for this requirment we are creating a my music app history table with the primary key song_title and clustering column as user_id to uniquely identify each row, \n",
    "# so that we can access all unique records with these combinations.\n",
    "\n",
    "#Creating the table for given requirement\n",
    "\n",
    "q3_0= \"create table if not exists my_music_app_history\"\n",
    "q3_0 = q3_0+ \"( song_title text, user_id int, user_first_name text, user_last_name text, Primary Key (song_title, user_id) )\"\n",
    "\n",
    "try:\n",
    "    session.execute(q3_0)\n",
    "except Exception as e:\n",
    "    print(e)\n",
    "                \n",
    "\n",
    "                    "
   ]
  },
  {
   "cell_type": "code",
   "execution_count": 16,
   "metadata": {},
   "outputs": [],
   "source": [
    "# Reading the data from the source file below\n",
    "file = 'event_datafile_new.csv'\n",
    "\n",
    "with open(file, encoding = 'utf8') as f:\n",
    "    csvreader = csv.reader(f)\n",
    "    next(csvreader) # to skip header\n",
    "    for line in csvreader:\n",
    "## ## insert statement to load data into the music app history user table\n",
    "        q3_1 = \"insert into my_music_app_history (song_title, user_id, user_first_name, user_last_name) \"\n",
    "        q3_1 = q3_1 + \"values (%s,%s,%s,%s)\"\n",
    "        ## assigning the appropriate column values from the file for each table column in the INSERT statement.\n",
    "        session.execute(q3_1, ( line[9], int(line[10]), line[1], line[4]))\n",
    "   "
   ]
  },
  {
   "cell_type": "code",
   "execution_count": 17,
   "metadata": {},
   "outputs": [
    {
     "name": "stdout",
     "output_type": "stream",
     "text": [
      "All Hands Against His Own Jacqueline Lynch\n",
      "All Hands Against His Own Tegan Levine\n",
      "All Hands Against His Own Sara Johnson\n"
     ]
    }
   ],
   "source": [
    "## Writing the select statment to fetch the required data as asked in the 3rd requirement.\n",
    "\n",
    "query_3 = \"select song_title, user_id, user_first_name, user_last_name from my_music_app_history where song_title='All Hands Against His Own' \"\n",
    "\n",
    "try:\n",
    "    rows = session.execute(query_3)\n",
    "except Exception as e:\n",
    "    print(e)\n",
    "    \n",
    "for row in rows:\n",
    "    print (row.song_title , row.user_first_name+' '+row.user_last_name)\n"
   ]
  },
  {
   "cell_type": "markdown",
   "metadata": {},
   "source": [
    "### Drop the tables before closing out the sessions"
   ]
  },
  {
   "cell_type": "code",
   "execution_count": 18,
   "metadata": {},
   "outputs": [],
   "source": [
    "#Dropping all the tables prior to session closure\n",
    "\n",
    "try:\n",
    "    session.execute(\"drop table music_app_history \")\n",
    "except Exception as e:\n",
    "    print(e)\n",
    "\n",
    "try:\n",
    "    session.execute(\"drop table music_app_history_user \")\n",
    "except Exception as e:\n",
    "    print(e)\n",
    "\n",
    "try:\n",
    "    session.execute(\"drop table my_music_app_history \")\n",
    "except Exception as e:\n",
    "    print(e)"
   ]
  },
  {
   "cell_type": "markdown",
   "metadata": {},
   "source": [
    "### Close the session and cluster connection¶"
   ]
  },
  {
   "cell_type": "code",
   "execution_count": 19,
   "metadata": {},
   "outputs": [],
   "source": [
    "session.shutdown()\n",
    "cluster.shutdown()"
   ]
  },
  {
   "cell_type": "code",
   "execution_count": null,
   "metadata": {},
   "outputs": [],
   "source": []
  },
  {
   "cell_type": "code",
   "execution_count": null,
   "metadata": {},
   "outputs": [],
   "source": []
  }
 ],
 "metadata": {
  "kernelspec": {
   "display_name": "Python 3",
   "language": "python",
   "name": "python3"
  },
  "language_info": {
   "codemirror_mode": {
    "name": "ipython",
    "version": 3
   },
   "file_extension": ".py",
   "mimetype": "text/x-python",
   "name": "python",
   "nbconvert_exporter": "python",
   "pygments_lexer": "ipython3",
   "version": "3.6.3"
  }
 },
 "nbformat": 4,
 "nbformat_minor": 4
}
